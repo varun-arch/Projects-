{
 "cells": [
  {
   "cell_type": "markdown",
   "id": "372e6704",
   "metadata": {},
   "source": [
    "# Abalone dataset (Regression Problem -Supervised M.L)"
   ]
  },
  {
   "cell_type": "code",
   "execution_count": 1,
   "id": "66c47de1",
   "metadata": {},
   "outputs": [],
   "source": [
    "import pandas as pd\n",
    "import seaborn as sns\n",
    "import numpy as np\n",
    "import matplotlib.pyplot as plt"
   ]
  },
  {
   "cell_type": "markdown",
   "id": "37262867",
   "metadata": {},
   "source": [
    "### Importing pandas and seaborn"
   ]
  },
  {
   "cell_type": "markdown",
   "id": "e816a9e9",
   "metadata": {},
   "source": [
    "### Importing the dataset"
   ]
  },
  {
   "cell_type": "code",
   "execution_count": 2,
   "id": "620abd32",
   "metadata": {},
   "outputs": [],
   "source": [
    "url=(\"https://archive.ics.uci.edu/ml/machine-learning-databases\"\n",
    "    \"/abalone/abalone.data\")"
   ]
  },
  {
   "cell_type": "markdown",
   "id": "31907e9d",
   "metadata": {},
   "source": [
    "### Reading the Dataset as well as Display The head"
   ]
  },
  {
   "cell_type": "code",
   "execution_count": 3,
   "id": "7dedaf09",
   "metadata": {},
   "outputs": [
    {
     "data": {
      "text/html": [
       "<div>\n",
       "<style scoped>\n",
       "    .dataframe tbody tr th:only-of-type {\n",
       "        vertical-align: middle;\n",
       "    }\n",
       "\n",
       "    .dataframe tbody tr th {\n",
       "        vertical-align: top;\n",
       "    }\n",
       "\n",
       "    .dataframe thead th {\n",
       "        text-align: right;\n",
       "    }\n",
       "</style>\n",
       "<table border=\"1\" class=\"dataframe\">\n",
       "  <thead>\n",
       "    <tr style=\"text-align: right;\">\n",
       "      <th></th>\n",
       "      <th>0</th>\n",
       "      <th>1</th>\n",
       "      <th>2</th>\n",
       "      <th>3</th>\n",
       "      <th>4</th>\n",
       "      <th>5</th>\n",
       "      <th>6</th>\n",
       "      <th>7</th>\n",
       "      <th>8</th>\n",
       "    </tr>\n",
       "  </thead>\n",
       "  <tbody>\n",
       "    <tr>\n",
       "      <th>0</th>\n",
       "      <td>M</td>\n",
       "      <td>0.455</td>\n",
       "      <td>0.365</td>\n",
       "      <td>0.095</td>\n",
       "      <td>0.5140</td>\n",
       "      <td>0.2245</td>\n",
       "      <td>0.1010</td>\n",
       "      <td>0.150</td>\n",
       "      <td>15</td>\n",
       "    </tr>\n",
       "    <tr>\n",
       "      <th>1</th>\n",
       "      <td>M</td>\n",
       "      <td>0.350</td>\n",
       "      <td>0.265</td>\n",
       "      <td>0.090</td>\n",
       "      <td>0.2255</td>\n",
       "      <td>0.0995</td>\n",
       "      <td>0.0485</td>\n",
       "      <td>0.070</td>\n",
       "      <td>7</td>\n",
       "    </tr>\n",
       "    <tr>\n",
       "      <th>2</th>\n",
       "      <td>F</td>\n",
       "      <td>0.530</td>\n",
       "      <td>0.420</td>\n",
       "      <td>0.135</td>\n",
       "      <td>0.6770</td>\n",
       "      <td>0.2565</td>\n",
       "      <td>0.1415</td>\n",
       "      <td>0.210</td>\n",
       "      <td>9</td>\n",
       "    </tr>\n",
       "    <tr>\n",
       "      <th>3</th>\n",
       "      <td>M</td>\n",
       "      <td>0.440</td>\n",
       "      <td>0.365</td>\n",
       "      <td>0.125</td>\n",
       "      <td>0.5160</td>\n",
       "      <td>0.2155</td>\n",
       "      <td>0.1140</td>\n",
       "      <td>0.155</td>\n",
       "      <td>10</td>\n",
       "    </tr>\n",
       "    <tr>\n",
       "      <th>4</th>\n",
       "      <td>I</td>\n",
       "      <td>0.330</td>\n",
       "      <td>0.255</td>\n",
       "      <td>0.080</td>\n",
       "      <td>0.2050</td>\n",
       "      <td>0.0895</td>\n",
       "      <td>0.0395</td>\n",
       "      <td>0.055</td>\n",
       "      <td>7</td>\n",
       "    </tr>\n",
       "  </tbody>\n",
       "</table>\n",
       "</div>"
      ],
      "text/plain": [
       "   0      1      2      3       4       5       6      7   8\n",
       "0  M  0.455  0.365  0.095  0.5140  0.2245  0.1010  0.150  15\n",
       "1  M  0.350  0.265  0.090  0.2255  0.0995  0.0485  0.070   7\n",
       "2  F  0.530  0.420  0.135  0.6770  0.2565  0.1415  0.210   9\n",
       "3  M  0.440  0.365  0.125  0.5160  0.2155  0.1140  0.155  10\n",
       "4  I  0.330  0.255  0.080  0.2050  0.0895  0.0395  0.055   7"
      ]
     },
     "execution_count": 3,
     "metadata": {},
     "output_type": "execute_result"
    }
   ],
   "source": [
    "df=pd.read_csv(url,header=None)\n",
    "df.head()"
   ]
  },
  {
   "cell_type": "markdown",
   "id": "a88a1548",
   "metadata": {},
   "source": [
    "### Giving names to Features"
   ]
  },
  {
   "cell_type": "code",
   "execution_count": 4,
   "id": "ee2e437d",
   "metadata": {},
   "outputs": [],
   "source": [
    "df.columns=['sex','length','diameter','height','whole_weight','shucked_weight','visera_weight','shell_weight','rings']"
   ]
  },
  {
   "cell_type": "code",
   "execution_count": 5,
   "id": "9272f2e7",
   "metadata": {},
   "outputs": [
    {
     "data": {
      "text/html": [
       "<div>\n",
       "<style scoped>\n",
       "    .dataframe tbody tr th:only-of-type {\n",
       "        vertical-align: middle;\n",
       "    }\n",
       "\n",
       "    .dataframe tbody tr th {\n",
       "        vertical-align: top;\n",
       "    }\n",
       "\n",
       "    .dataframe thead th {\n",
       "        text-align: right;\n",
       "    }\n",
       "</style>\n",
       "<table border=\"1\" class=\"dataframe\">\n",
       "  <thead>\n",
       "    <tr style=\"text-align: right;\">\n",
       "      <th></th>\n",
       "      <th>sex</th>\n",
       "      <th>length</th>\n",
       "      <th>diameter</th>\n",
       "      <th>height</th>\n",
       "      <th>whole_weight</th>\n",
       "      <th>shucked_weight</th>\n",
       "      <th>visera_weight</th>\n",
       "      <th>shell_weight</th>\n",
       "      <th>rings</th>\n",
       "    </tr>\n",
       "  </thead>\n",
       "  <tbody>\n",
       "    <tr>\n",
       "      <th>0</th>\n",
       "      <td>M</td>\n",
       "      <td>0.455</td>\n",
       "      <td>0.365</td>\n",
       "      <td>0.095</td>\n",
       "      <td>0.5140</td>\n",
       "      <td>0.2245</td>\n",
       "      <td>0.1010</td>\n",
       "      <td>0.1500</td>\n",
       "      <td>15</td>\n",
       "    </tr>\n",
       "    <tr>\n",
       "      <th>1</th>\n",
       "      <td>M</td>\n",
       "      <td>0.350</td>\n",
       "      <td>0.265</td>\n",
       "      <td>0.090</td>\n",
       "      <td>0.2255</td>\n",
       "      <td>0.0995</td>\n",
       "      <td>0.0485</td>\n",
       "      <td>0.0700</td>\n",
       "      <td>7</td>\n",
       "    </tr>\n",
       "    <tr>\n",
       "      <th>2</th>\n",
       "      <td>F</td>\n",
       "      <td>0.530</td>\n",
       "      <td>0.420</td>\n",
       "      <td>0.135</td>\n",
       "      <td>0.6770</td>\n",
       "      <td>0.2565</td>\n",
       "      <td>0.1415</td>\n",
       "      <td>0.2100</td>\n",
       "      <td>9</td>\n",
       "    </tr>\n",
       "    <tr>\n",
       "      <th>3</th>\n",
       "      <td>M</td>\n",
       "      <td>0.440</td>\n",
       "      <td>0.365</td>\n",
       "      <td>0.125</td>\n",
       "      <td>0.5160</td>\n",
       "      <td>0.2155</td>\n",
       "      <td>0.1140</td>\n",
       "      <td>0.1550</td>\n",
       "      <td>10</td>\n",
       "    </tr>\n",
       "    <tr>\n",
       "      <th>4</th>\n",
       "      <td>I</td>\n",
       "      <td>0.330</td>\n",
       "      <td>0.255</td>\n",
       "      <td>0.080</td>\n",
       "      <td>0.2050</td>\n",
       "      <td>0.0895</td>\n",
       "      <td>0.0395</td>\n",
       "      <td>0.0550</td>\n",
       "      <td>7</td>\n",
       "    </tr>\n",
       "    <tr>\n",
       "      <th>...</th>\n",
       "      <td>...</td>\n",
       "      <td>...</td>\n",
       "      <td>...</td>\n",
       "      <td>...</td>\n",
       "      <td>...</td>\n",
       "      <td>...</td>\n",
       "      <td>...</td>\n",
       "      <td>...</td>\n",
       "      <td>...</td>\n",
       "    </tr>\n",
       "    <tr>\n",
       "      <th>4172</th>\n",
       "      <td>F</td>\n",
       "      <td>0.565</td>\n",
       "      <td>0.450</td>\n",
       "      <td>0.165</td>\n",
       "      <td>0.8870</td>\n",
       "      <td>0.3700</td>\n",
       "      <td>0.2390</td>\n",
       "      <td>0.2490</td>\n",
       "      <td>11</td>\n",
       "    </tr>\n",
       "    <tr>\n",
       "      <th>4173</th>\n",
       "      <td>M</td>\n",
       "      <td>0.590</td>\n",
       "      <td>0.440</td>\n",
       "      <td>0.135</td>\n",
       "      <td>0.9660</td>\n",
       "      <td>0.4390</td>\n",
       "      <td>0.2145</td>\n",
       "      <td>0.2605</td>\n",
       "      <td>10</td>\n",
       "    </tr>\n",
       "    <tr>\n",
       "      <th>4174</th>\n",
       "      <td>M</td>\n",
       "      <td>0.600</td>\n",
       "      <td>0.475</td>\n",
       "      <td>0.205</td>\n",
       "      <td>1.1760</td>\n",
       "      <td>0.5255</td>\n",
       "      <td>0.2875</td>\n",
       "      <td>0.3080</td>\n",
       "      <td>9</td>\n",
       "    </tr>\n",
       "    <tr>\n",
       "      <th>4175</th>\n",
       "      <td>F</td>\n",
       "      <td>0.625</td>\n",
       "      <td>0.485</td>\n",
       "      <td>0.150</td>\n",
       "      <td>1.0945</td>\n",
       "      <td>0.5310</td>\n",
       "      <td>0.2610</td>\n",
       "      <td>0.2960</td>\n",
       "      <td>10</td>\n",
       "    </tr>\n",
       "    <tr>\n",
       "      <th>4176</th>\n",
       "      <td>M</td>\n",
       "      <td>0.710</td>\n",
       "      <td>0.555</td>\n",
       "      <td>0.195</td>\n",
       "      <td>1.9485</td>\n",
       "      <td>0.9455</td>\n",
       "      <td>0.3765</td>\n",
       "      <td>0.4950</td>\n",
       "      <td>12</td>\n",
       "    </tr>\n",
       "  </tbody>\n",
       "</table>\n",
       "<p>4177 rows × 9 columns</p>\n",
       "</div>"
      ],
      "text/plain": [
       "     sex  length  diameter  height  whole_weight  shucked_weight  \\\n",
       "0      M   0.455     0.365   0.095        0.5140          0.2245   \n",
       "1      M   0.350     0.265   0.090        0.2255          0.0995   \n",
       "2      F   0.530     0.420   0.135        0.6770          0.2565   \n",
       "3      M   0.440     0.365   0.125        0.5160          0.2155   \n",
       "4      I   0.330     0.255   0.080        0.2050          0.0895   \n",
       "...   ..     ...       ...     ...           ...             ...   \n",
       "4172   F   0.565     0.450   0.165        0.8870          0.3700   \n",
       "4173   M   0.590     0.440   0.135        0.9660          0.4390   \n",
       "4174   M   0.600     0.475   0.205        1.1760          0.5255   \n",
       "4175   F   0.625     0.485   0.150        1.0945          0.5310   \n",
       "4176   M   0.710     0.555   0.195        1.9485          0.9455   \n",
       "\n",
       "      visera_weight  shell_weight  rings  \n",
       "0            0.1010        0.1500     15  \n",
       "1            0.0485        0.0700      7  \n",
       "2            0.1415        0.2100      9  \n",
       "3            0.1140        0.1550     10  \n",
       "4            0.0395        0.0550      7  \n",
       "...             ...           ...    ...  \n",
       "4172         0.2390        0.2490     11  \n",
       "4173         0.2145        0.2605     10  \n",
       "4174         0.2875        0.3080      9  \n",
       "4175         0.2610        0.2960     10  \n",
       "4176         0.3765        0.4950     12  \n",
       "\n",
       "[4177 rows x 9 columns]"
      ]
     },
     "execution_count": 5,
     "metadata": {},
     "output_type": "execute_result"
    }
   ],
   "source": [
    "df"
   ]
  },
  {
   "cell_type": "markdown",
   "id": "35135339",
   "metadata": {},
   "source": [
    "### Checking Null Values"
   ]
  },
  {
   "cell_type": "code",
   "execution_count": 6,
   "id": "9cb467cc",
   "metadata": {},
   "outputs": [
    {
     "data": {
      "text/plain": [
       "sex               0\n",
       "length            0\n",
       "diameter          0\n",
       "height            0\n",
       "whole_weight      0\n",
       "shucked_weight    0\n",
       "visera_weight     0\n",
       "shell_weight      0\n",
       "rings             0\n",
       "dtype: int64"
      ]
     },
     "execution_count": 6,
     "metadata": {},
     "output_type": "execute_result"
    }
   ],
   "source": [
    "df.isnull().sum()"
   ]
  },
  {
   "cell_type": "markdown",
   "id": "34b18ca1",
   "metadata": {},
   "source": [
    "### Feature Information of the DataSet"
   ]
  },
  {
   "cell_type": "code",
   "execution_count": 7,
   "id": "fd94af37",
   "metadata": {},
   "outputs": [
    {
     "name": "stdout",
     "output_type": "stream",
     "text": [
      "<class 'pandas.core.frame.DataFrame'>\n",
      "RangeIndex: 4177 entries, 0 to 4176\n",
      "Data columns (total 9 columns):\n",
      " #   Column          Non-Null Count  Dtype  \n",
      "---  ------          --------------  -----  \n",
      " 0   sex             4177 non-null   object \n",
      " 1   length          4177 non-null   float64\n",
      " 2   diameter        4177 non-null   float64\n",
      " 3   height          4177 non-null   float64\n",
      " 4   whole_weight    4177 non-null   float64\n",
      " 5   shucked_weight  4177 non-null   float64\n",
      " 6   visera_weight   4177 non-null   float64\n",
      " 7   shell_weight    4177 non-null   float64\n",
      " 8   rings           4177 non-null   int64  \n",
      "dtypes: float64(7), int64(1), object(1)\n",
      "memory usage: 293.8+ KB\n"
     ]
    }
   ],
   "source": [
    "df.info()\n",
    "\n",
    "# No-Null data\n",
    "# 1 - Object Type\n",
    "# 7 - Float Type\n",
    "# 1 - Int Type"
   ]
  },
  {
   "cell_type": "code",
   "execution_count": 8,
   "id": "66e8887e",
   "metadata": {},
   "outputs": [],
   "source": [
    "### Feature Distirbution of data for Float and Int Data Type"
   ]
  },
  {
   "cell_type": "code",
   "execution_count": 9,
   "id": "d86ff7b1",
   "metadata": {
    "scrolled": true
   },
   "outputs": [
    {
     "data": {
      "text/html": [
       "<div>\n",
       "<style scoped>\n",
       "    .dataframe tbody tr th:only-of-type {\n",
       "        vertical-align: middle;\n",
       "    }\n",
       "\n",
       "    .dataframe tbody tr th {\n",
       "        vertical-align: top;\n",
       "    }\n",
       "\n",
       "    .dataframe thead th {\n",
       "        text-align: right;\n",
       "    }\n",
       "</style>\n",
       "<table border=\"1\" class=\"dataframe\">\n",
       "  <thead>\n",
       "    <tr style=\"text-align: right;\">\n",
       "      <th></th>\n",
       "      <th>length</th>\n",
       "      <th>diameter</th>\n",
       "      <th>height</th>\n",
       "      <th>whole_weight</th>\n",
       "      <th>shucked_weight</th>\n",
       "      <th>visera_weight</th>\n",
       "      <th>shell_weight</th>\n",
       "      <th>rings</th>\n",
       "    </tr>\n",
       "  </thead>\n",
       "  <tbody>\n",
       "    <tr>\n",
       "      <th>count</th>\n",
       "      <td>4177.000000</td>\n",
       "      <td>4177.000000</td>\n",
       "      <td>4177.000000</td>\n",
       "      <td>4177.000000</td>\n",
       "      <td>4177.000000</td>\n",
       "      <td>4177.000000</td>\n",
       "      <td>4177.000000</td>\n",
       "      <td>4177.000000</td>\n",
       "    </tr>\n",
       "    <tr>\n",
       "      <th>mean</th>\n",
       "      <td>0.523992</td>\n",
       "      <td>0.407881</td>\n",
       "      <td>0.139516</td>\n",
       "      <td>0.828742</td>\n",
       "      <td>0.359367</td>\n",
       "      <td>0.180594</td>\n",
       "      <td>0.238831</td>\n",
       "      <td>9.933684</td>\n",
       "    </tr>\n",
       "    <tr>\n",
       "      <th>std</th>\n",
       "      <td>0.120093</td>\n",
       "      <td>0.099240</td>\n",
       "      <td>0.041827</td>\n",
       "      <td>0.490389</td>\n",
       "      <td>0.221963</td>\n",
       "      <td>0.109614</td>\n",
       "      <td>0.139203</td>\n",
       "      <td>3.224169</td>\n",
       "    </tr>\n",
       "    <tr>\n",
       "      <th>min</th>\n",
       "      <td>0.075000</td>\n",
       "      <td>0.055000</td>\n",
       "      <td>0.000000</td>\n",
       "      <td>0.002000</td>\n",
       "      <td>0.001000</td>\n",
       "      <td>0.000500</td>\n",
       "      <td>0.001500</td>\n",
       "      <td>1.000000</td>\n",
       "    </tr>\n",
       "    <tr>\n",
       "      <th>25%</th>\n",
       "      <td>0.450000</td>\n",
       "      <td>0.350000</td>\n",
       "      <td>0.115000</td>\n",
       "      <td>0.441500</td>\n",
       "      <td>0.186000</td>\n",
       "      <td>0.093500</td>\n",
       "      <td>0.130000</td>\n",
       "      <td>8.000000</td>\n",
       "    </tr>\n",
       "    <tr>\n",
       "      <th>50%</th>\n",
       "      <td>0.545000</td>\n",
       "      <td>0.425000</td>\n",
       "      <td>0.140000</td>\n",
       "      <td>0.799500</td>\n",
       "      <td>0.336000</td>\n",
       "      <td>0.171000</td>\n",
       "      <td>0.234000</td>\n",
       "      <td>9.000000</td>\n",
       "    </tr>\n",
       "    <tr>\n",
       "      <th>75%</th>\n",
       "      <td>0.615000</td>\n",
       "      <td>0.480000</td>\n",
       "      <td>0.165000</td>\n",
       "      <td>1.153000</td>\n",
       "      <td>0.502000</td>\n",
       "      <td>0.253000</td>\n",
       "      <td>0.329000</td>\n",
       "      <td>11.000000</td>\n",
       "    </tr>\n",
       "    <tr>\n",
       "      <th>max</th>\n",
       "      <td>0.815000</td>\n",
       "      <td>0.650000</td>\n",
       "      <td>1.130000</td>\n",
       "      <td>2.825500</td>\n",
       "      <td>1.488000</td>\n",
       "      <td>0.760000</td>\n",
       "      <td>1.005000</td>\n",
       "      <td>29.000000</td>\n",
       "    </tr>\n",
       "  </tbody>\n",
       "</table>\n",
       "</div>"
      ],
      "text/plain": [
       "            length     diameter       height  whole_weight  shucked_weight  \\\n",
       "count  4177.000000  4177.000000  4177.000000   4177.000000     4177.000000   \n",
       "mean      0.523992     0.407881     0.139516      0.828742        0.359367   \n",
       "std       0.120093     0.099240     0.041827      0.490389        0.221963   \n",
       "min       0.075000     0.055000     0.000000      0.002000        0.001000   \n",
       "25%       0.450000     0.350000     0.115000      0.441500        0.186000   \n",
       "50%       0.545000     0.425000     0.140000      0.799500        0.336000   \n",
       "75%       0.615000     0.480000     0.165000      1.153000        0.502000   \n",
       "max       0.815000     0.650000     1.130000      2.825500        1.488000   \n",
       "\n",
       "       visera_weight  shell_weight        rings  \n",
       "count    4177.000000   4177.000000  4177.000000  \n",
       "mean        0.180594      0.238831     9.933684  \n",
       "std         0.109614      0.139203     3.224169  \n",
       "min         0.000500      0.001500     1.000000  \n",
       "25%         0.093500      0.130000     8.000000  \n",
       "50%         0.171000      0.234000     9.000000  \n",
       "75%         0.253000      0.329000    11.000000  \n",
       "max         0.760000      1.005000    29.000000  "
      ]
     },
     "execution_count": 9,
     "metadata": {},
     "output_type": "execute_result"
    }
   ],
   "source": [
    "df.describe()"
   ]
  },
  {
   "cell_type": "markdown",
   "id": "7441a060",
   "metadata": {},
   "source": [
    "### According to Described Information Above :\n",
    "\n",
    "#### No Feature has Minimum Value = 0, except Height\n",
    "#### All Features are not Normally Distributed, ( Theortically if feature is normally distributed, Mean = Median = Mode ).\n",
    "#### But Features are close to Normality\n",
    "#### All numerical, Except Sex\n",
    "#### Each Feature has Different Scale"
   ]
  },
  {
   "cell_type": "markdown",
   "id": "ab7d0fbc",
   "metadata": {},
   "source": [
    "### Histogram : to see the numeric data distribution"
   ]
  },
  {
   "cell_type": "code",
   "execution_count": 10,
   "id": "40862aab",
   "metadata": {},
   "outputs": [
    {
     "data": {
      "text/plain": [
       "array([[<AxesSubplot:title={'center':'length'}>,\n",
       "        <AxesSubplot:title={'center':'diameter'}>,\n",
       "        <AxesSubplot:title={'center':'height'}>,\n",
       "        <AxesSubplot:title={'center':'whole_weight'}>],\n",
       "       [<AxesSubplot:title={'center':'shucked_weight'}>,\n",
       "        <AxesSubplot:title={'center':'visera_weight'}>,\n",
       "        <AxesSubplot:title={'center':'shell_weight'}>,\n",
       "        <AxesSubplot:title={'center':'rings'}>]], dtype=object)"
      ]
     },
     "execution_count": 10,
     "metadata": {},
     "output_type": "execute_result"
    },
    {
     "data": {
      "image/png": "[encoded data removed]",
      "text/plain": [
       "<Figure size 1440x1440 with 8 Axes>"
      ]
     },
     "metadata": {
      "needs_background": "light"
     },
     "output_type": "display_data"
    }
   ],
   "source": [
    "df.hist(figsize=(20,20), grid = True, layout = (2,4), bins = 30)"
   ]
  },
  {
   "cell_type": "markdown",
   "id": "236c7ec4",
   "metadata": {},
   "source": [
    "## Data Visualization"
   ]
  },
  {
   "cell_type": "code",
   "execution_count": null,
   "id": "e7c75cc0",
   "metadata": {},
   "outputs": [],
   "source": []
  },
  {
   "cell_type": "code",
   "execution_count": 11,
   "id": "59c27568",
   "metadata": {},
   "outputs": [],
   "source": [
    "import klib"
   ]
  },
  {
   "cell_type": "code",
   "execution_count": 12,
   "id": "41eea34b",
   "metadata": {},
   "outputs": [
    {
     "data": {
      "text/plain": [
       "<AxesSubplot:title={'center':'Feature-correlation (pearson)'}>"
      ]
     },
     "execution_count": 12,
     "metadata": {},
     "output_type": "execute_result"
    },
    {
     "data": {
      "image/png": "[encoded data removed]",
      "text/plain": [
       "<Figure size 864x720 with 2 Axes>"
      ]
     },
     "metadata": {
      "needs_background": "light"
     },
     "output_type": "display_data"
    }
   ],
   "source": [
    "klib.corr_plot(df)"
   ]
  },
  {
   "cell_type": "code",
   "execution_count": 13,
   "id": "60676837",
   "metadata": {
    "scrolled": false
   },
   "outputs": [
    {
     "data": {
      "text/html": [
       "<style type=\"text/css\">\n",
       "#T_41cc3_row0_col0, #T_41cc3_row0_col1, #T_41cc3_row0_col2, #T_41cc3_row0_col3, #T_41cc3_row0_col4, #T_41cc3_row0_col5, #T_41cc3_row0_col6, #T_41cc3_row0_col7, #T_41cc3_row1_col0, #T_41cc3_row1_col1, #T_41cc3_row1_col2, #T_41cc3_row1_col3, #T_41cc3_row1_col4, #T_41cc3_row1_col5, #T_41cc3_row1_col6, #T_41cc3_row1_col7, #T_41cc3_row2_col0, #T_41cc3_row2_col1, #T_41cc3_row2_col2, #T_41cc3_row2_col3, #T_41cc3_row2_col4, #T_41cc3_row2_col5, #T_41cc3_row2_col6, #T_41cc3_row2_col7, #T_41cc3_row3_col0, #T_41cc3_row3_col1, #T_41cc3_row3_col2, #T_41cc3_row3_col3, #T_41cc3_row3_col4, #T_41cc3_row3_col5, #T_41cc3_row3_col6, #T_41cc3_row3_col7, #T_41cc3_row4_col0, #T_41cc3_row4_col1, #T_41cc3_row4_col2, #T_41cc3_row4_col3, #T_41cc3_row4_col4, #T_41cc3_row4_col5, #T_41cc3_row4_col6, #T_41cc3_row4_col7, #T_41cc3_row5_col0, #T_41cc3_row5_col1, #T_41cc3_row5_col2, #T_41cc3_row5_col3, #T_41cc3_row5_col4, #T_41cc3_row5_col5, #T_41cc3_row5_col6, #T_41cc3_row5_col7, #T_41cc3_row6_col0, #T_41cc3_row6_col1, #T_41cc3_row6_col2, #T_41cc3_row6_col3, #T_41cc3_row6_col4, #T_41cc3_row6_col5, #T_41cc3_row6_col6, #T_41cc3_row6_col7, #T_41cc3_row7_col0, #T_41cc3_row7_col1, #T_41cc3_row7_col2, #T_41cc3_row7_col3, #T_41cc3_row7_col4, #T_41cc3_row7_col5, #T_41cc3_row7_col6, #T_41cc3_row7_col7 {\n",
       "  color: None;\n",
       "}\n",
       "</style>\n",
       "<table id=\"T_41cc3_\">\n",
       "  <thead>\n",
       "    <tr>\n",
       "      <th class=\"blank level0\" >&nbsp;</th>\n",
       "      <th class=\"col_heading level0 col0\" >length</th>\n",
       "      <th class=\"col_heading level0 col1\" >diameter</th>\n",
       "      <th class=\"col_heading level0 col2\" >height</th>\n",
       "      <th class=\"col_heading level0 col3\" >whole_weight</th>\n",
       "      <th class=\"col_heading level0 col4\" >shucked_weight</th>\n",
       "      <th class=\"col_heading level0 col5\" >visera_weight</th>\n",
       "      <th class=\"col_heading level0 col6\" >shell_weight</th>\n",
       "      <th class=\"col_heading level0 col7\" >rings</th>\n",
       "    </tr>\n",
       "  </thead>\n",
       "  <tbody>\n",
       "    <tr>\n",
       "      <th id=\"T_41cc3_level0_row0\" class=\"row_heading level0 row0\" >length</th>\n",
       "      <td id=\"T_41cc3_row0_col0\" class=\"data row0 col0\" >1.00</td>\n",
       "      <td id=\"T_41cc3_row0_col1\" class=\"data row0 col1\" >0.99</td>\n",
       "      <td id=\"T_41cc3_row0_col2\" class=\"data row0 col2\" >0.83</td>\n",
       "      <td id=\"T_41cc3_row0_col3\" class=\"data row0 col3\" >0.93</td>\n",
       "      <td id=\"T_41cc3_row0_col4\" class=\"data row0 col4\" >0.90</td>\n",
       "      <td id=\"T_41cc3_row0_col5\" class=\"data row0 col5\" >0.90</td>\n",
       "      <td id=\"T_41cc3_row0_col6\" class=\"data row0 col6\" >0.90</td>\n",
       "      <td id=\"T_41cc3_row0_col7\" class=\"data row0 col7\" >0.56</td>\n",
       "    </tr>\n",
       "    <tr>\n",
       "      <th id=\"T_41cc3_level0_row1\" class=\"row_heading level0 row1\" >diameter</th>\n",
       "      <td id=\"T_41cc3_row1_col0\" class=\"data row1 col0\" >0.99</td>\n",
       "      <td id=\"T_41cc3_row1_col1\" class=\"data row1 col1\" >1.00</td>\n",
       "      <td id=\"T_41cc3_row1_col2\" class=\"data row1 col2\" >0.83</td>\n",
       "      <td id=\"T_41cc3_row1_col3\" class=\"data row1 col3\" >0.93</td>\n",
       "      <td id=\"T_41cc3_row1_col4\" class=\"data row1 col4\" >0.89</td>\n",
       "      <td id=\"T_41cc3_row1_col5\" class=\"data row1 col5\" >0.90</td>\n",
       "      <td id=\"T_41cc3_row1_col6\" class=\"data row1 col6\" >0.91</td>\n",
       "      <td id=\"T_41cc3_row1_col7\" class=\"data row1 col7\" >0.57</td>\n",
       "    </tr>\n",
       "    <tr>\n",
       "      <th id=\"T_41cc3_level0_row2\" class=\"row_heading level0 row2\" >height</th>\n",
       "      <td id=\"T_41cc3_row2_col0\" class=\"data row2 col0\" >0.83</td>\n",
       "      <td id=\"T_41cc3_row2_col1\" class=\"data row2 col1\" >0.83</td>\n",
       "      <td id=\"T_41cc3_row2_col2\" class=\"data row2 col2\" >1.00</td>\n",
       "      <td id=\"T_41cc3_row2_col3\" class=\"data row2 col3\" >0.82</td>\n",
       "      <td id=\"T_41cc3_row2_col4\" class=\"data row2 col4\" >0.77</td>\n",
       "      <td id=\"T_41cc3_row2_col5\" class=\"data row2 col5\" >0.80</td>\n",
       "      <td id=\"T_41cc3_row2_col6\" class=\"data row2 col6\" >0.82</td>\n",
       "      <td id=\"T_41cc3_row2_col7\" class=\"data row2 col7\" >0.56</td>\n",
       "    </tr>\n",
       "    <tr>\n",
       "      <th id=\"T_41cc3_level0_row3\" class=\"row_heading level0 row3\" >whole_weight</th>\n",
       "      <td id=\"T_41cc3_row3_col0\" class=\"data row3 col0\" >0.93</td>\n",
       "      <td id=\"T_41cc3_row3_col1\" class=\"data row3 col1\" >0.93</td>\n",
       "      <td id=\"T_41cc3_row3_col2\" class=\"data row3 col2\" >0.82</td>\n",
       "      <td id=\"T_41cc3_row3_col3\" class=\"data row3 col3\" >1.00</td>\n",
       "      <td id=\"T_41cc3_row3_col4\" class=\"data row3 col4\" >0.97</td>\n",
       "      <td id=\"T_41cc3_row3_col5\" class=\"data row3 col5\" >0.97</td>\n",
       "      <td id=\"T_41cc3_row3_col6\" class=\"data row3 col6\" >0.96</td>\n",
       "      <td id=\"T_41cc3_row3_col7\" class=\"data row3 col7\" >0.54</td>\n",
       "    </tr>\n",
       "    <tr>\n",
       "      <th id=\"T_41cc3_level0_row4\" class=\"row_heading level0 row4\" >shucked_weight</th>\n",
       "      <td id=\"T_41cc3_row4_col0\" class=\"data row4 col0\" >0.90</td>\n",
       "      <td id=\"T_41cc3_row4_col1\" class=\"data row4 col1\" >0.89</td>\n",
       "      <td id=\"T_41cc3_row4_col2\" class=\"data row4 col2\" >0.77</td>\n",
       "      <td id=\"T_41cc3_row4_col3\" class=\"data row4 col3\" >0.97</td>\n",
       "      <td id=\"T_41cc3_row4_col4\" class=\"data row4 col4\" >1.00</td>\n",
       "      <td id=\"T_41cc3_row4_col5\" class=\"data row4 col5\" >0.93</td>\n",
       "      <td id=\"T_41cc3_row4_col6\" class=\"data row4 col6\" >0.88</td>\n",
       "      <td id=\"T_41cc3_row4_col7\" class=\"data row4 col7\" >0.42</td>\n",
       "    </tr>\n",
       "    <tr>\n",
       "      <th id=\"T_41cc3_level0_row5\" class=\"row_heading level0 row5\" >visera_weight</th>\n",
       "      <td id=\"T_41cc3_row5_col0\" class=\"data row5 col0\" >0.90</td>\n",
       "      <td id=\"T_41cc3_row5_col1\" class=\"data row5 col1\" >0.90</td>\n",
       "      <td id=\"T_41cc3_row5_col2\" class=\"data row5 col2\" >0.80</td>\n",
       "      <td id=\"T_41cc3_row5_col3\" class=\"data row5 col3\" >0.97</td>\n",
       "      <td id=\"T_41cc3_row5_col4\" class=\"data row5 col4\" >0.93</td>\n",
       "      <td id=\"T_41cc3_row5_col5\" class=\"data row5 col5\" >1.00</td>\n",
       "      <td id=\"T_41cc3_row5_col6\" class=\"data row5 col6\" >0.91</td>\n",
       "      <td id=\"T_41cc3_row5_col7\" class=\"data row5 col7\" >0.50</td>\n",
       "    </tr>\n",
       "    <tr>\n",
       "      <th id=\"T_41cc3_level0_row6\" class=\"row_heading level0 row6\" >shell_weight</th>\n",
       "      <td id=\"T_41cc3_row6_col0\" class=\"data row6 col0\" >0.90</td>\n",
       "      <td id=\"T_41cc3_row6_col1\" class=\"data row6 col1\" >0.91</td>\n",
       "      <td id=\"T_41cc3_row6_col2\" class=\"data row6 col2\" >0.82</td>\n",
       "      <td id=\"T_41cc3_row6_col3\" class=\"data row6 col3\" >0.96</td>\n",
       "      <td id=\"T_41cc3_row6_col4\" class=\"data row6 col4\" >0.88</td>\n",
       "      <td id=\"T_41cc3_row6_col5\" class=\"data row6 col5\" >0.91</td>\n",
       "      <td id=\"T_41cc3_row6_col6\" class=\"data row6 col6\" >1.00</td>\n",
       "      <td id=\"T_41cc3_row6_col7\" class=\"data row6 col7\" >0.63</td>\n",
       "    </tr>\n",
       "    <tr>\n",
       "      <th id=\"T_41cc3_level0_row7\" class=\"row_heading level0 row7\" >rings</th>\n",
       "      <td id=\"T_41cc3_row7_col0\" class=\"data row7 col0\" >0.56</td>\n",
       "      <td id=\"T_41cc3_row7_col1\" class=\"data row7 col1\" >0.57</td>\n",
       "      <td id=\"T_41cc3_row7_col2\" class=\"data row7 col2\" >0.56</td>\n",
       "      <td id=\"T_41cc3_row7_col3\" class=\"data row7 col3\" >0.54</td>\n",
       "      <td id=\"T_41cc3_row7_col4\" class=\"data row7 col4\" >0.42</td>\n",
       "      <td id=\"T_41cc3_row7_col5\" class=\"data row7 col5\" >0.50</td>\n",
       "      <td id=\"T_41cc3_row7_col6\" class=\"data row7 col6\" >0.63</td>\n",
       "      <td id=\"T_41cc3_row7_col7\" class=\"data row7 col7\" >1.00</td>\n",
       "    </tr>\n",
       "  </tbody>\n",
       "</table>\n"
      ],
      "text/plain": [
       "<pandas.io.formats.style.Styler at 0x73a58c2340>"
      ]
     },
     "execution_count": 13,
     "metadata": {},
     "output_type": "execute_result"
    }
   ],
   "source": [
    "klib.corr_mat(df)"
   ]
  },
  {
   "cell_type": "markdown",
   "id": "750c4ca8",
   "metadata": {},
   "source": [
    "## Sex Count of Abalone, M - Male, F - Female, I - Infant"
   ]
  },
  {
   "cell_type": "code",
   "execution_count": 14,
   "id": "43e1c226",
   "metadata": {},
   "outputs": [
    {
     "data": {
      "text/plain": [
       "<AxesSubplot:xlabel='sex', ylabel='count'>"
      ]
     },
     "execution_count": 14,
     "metadata": {},
     "output_type": "execute_result"
    },
    {
     "data": {
      "image/png": "[encoded data removed]",
      "text/plain": [
       "<Figure size 432x288 with 1 Axes>"
      ]
     },
     "metadata": {
      "needs_background": "light"
     },
     "output_type": "display_data"
    }
   ],
   "source": [
    "sns.countplot(x='sex', data = df) "
   ]
  },
  {
   "cell_type": "code",
   "execution_count": 15,
   "id": "d2dc7610",
   "metadata": {
    "scrolled": true
   },
   "outputs": [
    {
     "name": "stdout",
     "output_type": "stream",
     "text": [
      "Sex Count in Numbers\n",
      "M    1528\n",
      "I    1342\n",
      "F    1307\n",
      "Name: sex, dtype: int64\n",
      "\n",
      "Sex Count in Percentage\n",
      "M    0.365813\n",
      "I    0.321283\n",
      "F    0.312904\n",
      "Name: sex, dtype: float64\n"
     ]
    }
   ],
   "source": [
    "print(\"Sex Count in Numbers\")\n",
    "print(df.sex.value_counts())\n",
    "print(\"\\nSex Count in Percentage\")\n",
    "print(df.sex.value_counts(normalize = True))"
   ]
  },
  {
   "cell_type": "markdown",
   "id": "6c86ddc4",
   "metadata": {},
   "source": [
    "### Checking the correlation of input features with output feature"
   ]
  },
  {
   "cell_type": "code",
   "execution_count": 16,
   "id": "e647f64d",
   "metadata": {
    "scrolled": false
   },
   "outputs": [
    {
     "data": {
      "text/plain": [
       "length            0.556720\n",
       "diameter          0.574660\n",
       "height            0.557467\n",
       "whole_weight      0.540390\n",
       "shucked_weight    0.420884\n",
       "visera_weight     0.503819\n",
       "shell_weight      0.627574\n",
       "rings             1.000000\n",
       "Name: rings, dtype: float64"
      ]
     },
     "execution_count": 16,
     "metadata": {},
     "output_type": "execute_result"
    }
   ],
   "source": [
    "cm=df.corr()\n",
    "cm['rings']"
   ]
  },
  {
   "cell_type": "code",
   "execution_count": 17,
   "id": "51b96667",
   "metadata": {},
   "outputs": [
    {
     "data": {
      "text/plain": [
       "<seaborn.axisgrid.FacetGrid at 0x73a596f2b0>"
      ]
     },
     "execution_count": 17,
     "metadata": {},
     "output_type": "execute_result"
    },
    {
     "data": {
      "image/png": "[encoded data removed]",
      "text/plain": [
       "<Figure size 360x360 with 1 Axes>"
      ]
     },
     "metadata": {
      "needs_background": "light"
     },
     "output_type": "display_data"
    }
   ],
   "source": [
    "import seaborn as sns\n",
    "\n",
    "sns.catplot(kind='count',x='rings',data=df)"
   ]
  },
  {
   "cell_type": "markdown",
   "id": "6ecf2c4a",
   "metadata": {},
   "source": [
    "### LabelEnconding the Categorical Data"
   ]
  },
  {
   "cell_type": "code",
   "execution_count": 18,
   "id": "9aa1427e",
   "metadata": {},
   "outputs": [],
   "source": [
    "from sklearn.preprocessing import LabelEncoder\n",
    "\n",
    "le=LabelEncoder()\n",
    "df['sex']=le.fit_transform(df['sex'])"
   ]
  },
  {
   "cell_type": "markdown",
   "id": "3915a513",
   "metadata": {},
   "source": [
    "### Droping the rings column"
   ]
  },
  {
   "cell_type": "code",
   "execution_count": 19,
   "id": "3e2aeda3",
   "metadata": {},
   "outputs": [],
   "source": [
    "x=df.drop('rings',axis=1)\n",
    "y=df['rings']"
   ]
  },
  {
   "cell_type": "markdown",
   "id": "312a2703",
   "metadata": {},
   "source": [
    "### Data Splitting for Model"
   ]
  },
  {
   "cell_type": "code",
   "execution_count": 20,
   "id": "315b805a",
   "metadata": {},
   "outputs": [],
   "source": [
    "from sklearn.model_selection import train_test_split\n",
    "\n",
    "X_train,X_test,y_train,y_test=train_test_split(x,y,test_size=0.20,random_state=12345)"
   ]
  },
  {
   "cell_type": "markdown",
   "id": "e17dc991",
   "metadata": {},
   "source": [
    "### Finding the best parameter through Grid Search CV"
   ]
  },
  {
   "cell_type": "code",
   "execution_count": 21,
   "id": "b09788e6",
   "metadata": {},
   "outputs": [
    {
     "data": {
      "text/plain": [
       "{'n_neighbors': 14, 'weights': 'distance'}"
      ]
     },
     "execution_count": 21,
     "metadata": {},
     "output_type": "execute_result"
    }
   ],
   "source": [
    "from sklearn.model_selection import  GridSearchCV\n",
    "from sklearn.neighbors import KNeighborsRegressor\n",
    "\n",
    "knr=KNeighborsRegressor()\n",
    "knr_params={'n_neighbors':range(1,20),'weights':['uniform','distance']}\n",
    "\n",
    "GridSearchCV(estimator=KNeighborsRegressor(),param_grid={'n_neighbors':range(1,20),'weights':['uniform','distance']})\n",
    "\n",
    "grid_search=GridSearchCV(knr,knr_params)\n",
    "grid_search.fit(X_train,y_train)\n",
    "\n",
    "grid_search.best_params_"
   ]
  },
  {
   "cell_type": "markdown",
   "id": "eb73a5cb",
   "metadata": {},
   "source": [
    "### Simple KNN Model"
   ]
  },
  {
   "cell_type": "code",
   "execution_count": 22,
   "id": "349efca2",
   "metadata": {},
   "outputs": [
    {
     "data": {
      "text/plain": [
       "KNeighborsRegressor(n_neighbors=14)"
      ]
     },
     "execution_count": 22,
     "metadata": {},
     "output_type": "execute_result"
    }
   ],
   "source": [
    "from sklearn.neighbors import KNeighborsRegressor\n",
    "\n",
    "knr=KNeighborsRegressor(n_neighbors=14)\n",
    "knr.fit(X_train,y_train)"
   ]
  },
  {
   "cell_type": "code",
   "execution_count": 23,
   "id": "2fdfb3bb",
   "metadata": {},
   "outputs": [
    {
     "name": "stdout",
     "output_type": "stream",
     "text": [
      "2.256689704634992\n"
     ]
    }
   ],
   "source": [
    "from sklearn.metrics import mean_squared_error\n",
    "from math import sqrt\n",
    "\n",
    "# test\n",
    "y_pred=knr.predict(X_test)\n",
    "mse=mean_squared_error(y_pred,y_test)\n",
    "rsme=sqrt(mse)\n",
    "\n",
    "print(rsme)"
   ]
  },
  {
   "cell_type": "code",
   "execution_count": 24,
   "id": "7b99816f",
   "metadata": {},
   "outputs": [
    {
     "name": "stdout",
     "output_type": "stream",
     "text": [
      "2.256689704634992\n"
     ]
    }
   ],
   "source": [
    "y_pred=knr.predict(X_test)\n",
    "mse=mean_squared_error(y_pred,y_test)\n",
    "rsme=sqrt(mse)\n",
    "\n",
    "print(rsme)"
   ]
  },
  {
   "cell_type": "code",
   "execution_count": 28,
   "id": "11a5597b",
   "metadata": {},
   "outputs": [],
   "source": [
    "### Final Conclusion : we have not removed Outliers as Knn is not sensitive to outliers\n"
   ]
  },
  {
   "cell_type": "code",
   "execution_count": null,
   "id": "32d73609",
   "metadata": {},
   "outputs": [],
   "source": []
  },
  {
   "cell_type": "code",
   "execution_count": null,
   "id": "d6a209f1",
   "metadata": {},
   "outputs": [],
   "source": []
  },
  {
   "cell_type": "code",
   "execution_count": null,
   "id": "f3bb879b",
   "metadata": {},
   "outputs": [],
   "source": []
  },
  {
   "cell_type": "code",
   "execution_count": null,
   "id": "044dae3f",
   "metadata": {},
   "outputs": [],
   "source": []
  },
  {
   "cell_type": "code",
   "execution_count": null,
   "id": "66c25370",
   "metadata": {},
   "outputs": [],
   "source": []
  },
  {
   "cell_type": "code",
   "execution_count": null,
   "id": "1bf1cc57",
   "metadata": {},
   "outputs": [],
   "source": []
  },
  {
   "cell_type": "code",
   "execution_count": null,
   "id": "634990af",
   "metadata": {},
   "outputs": [],
   "source": []
  },
  {
   "cell_type": "code",
   "execution_count": null,
   "id": "5ee57a3f",
   "metadata": {},
   "outputs": [],
   "source": []
  }
 ],
 "metadata": {
  "kernelspec": {
   "display_name": "Python 3 (ipykernel)",
   "language": "python",
   "name": "python3"
  },
  "language_info": {
   "codemirror_mode": {
    "name": "ipython",
    "version": 3
   },
   "file_extension": ".py",
   "mimetype": "text/x-python",
   "name": "python",
   "nbconvert_exporter": "python",
   "pygments_lexer": "ipython3",
   "version": "3.9.7"
  }
 },
 "nbformat": 4,
 "nbformat_minor": 5
}
